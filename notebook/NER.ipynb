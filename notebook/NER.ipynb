{
 "cells": [
  {
   "cell_type": "markdown",
   "metadata": {},
   "source": [
    "Lingusitic Features"
   ]
  },
  {
   "cell_type": "code",
   "execution_count": 1,
   "metadata": {},
   "outputs": [],
   "source": [
    "import spacy\n",
    "nlp = spacy.load(\"en_core_web_sm\")"
   ]
  },
  {
   "cell_type": "code",
   "execution_count": 2,
   "metadata": {},
   "outputs": [
    {
     "data": {
      "text/plain": [
       "'Joe Biden’s President-Elect Acceptance Speech\\n\\nMy fellow Americans, the people of this nation have s'"
      ]
     },
     "execution_count": 2,
     "metadata": {},
     "output_type": "execute_result"
    }
   ],
   "source": [
    "raw_text = None\n",
    "with open(\"../data/\"+'default_content.txt', 'r', encoding=\"utf8\") as f:\n",
    "    raw_text = f.read()\n",
    "    #print(data)\n",
    "\n",
    "raw_text[:100]"
   ]
  },
  {
   "cell_type": "code",
   "execution_count": 3,
   "metadata": {},
   "outputs": [],
   "source": [
    "doc = nlp(raw_text)"
   ]
  },
  {
   "cell_type": "code",
   "execution_count": 6,
   "metadata": {},
   "outputs": [
    {
     "data": {
      "text/plain": [
       "['built',\n",
       " 'steady',\n",
       " 'able',\n",
       " 'woman',\n",
       " 'vice',\n",
       " '12',\n",
       " 'been',\n",
       " 'advisers',\n",
       " 'ethnicity',\n",
       " 'until']"
      ]
     },
     "execution_count": 6,
     "metadata": {},
     "output_type": "execute_result"
    }
   ],
   "source": [
    "# Tokenization\n",
    "tokens = []\n",
    "for t in doc:\n",
    "    tokens.append(t.text)\n",
    "    \n",
    "tokens = list(set(tokens))\n",
    "tokens[:10]"
   ]
  },
  {
   "cell_type": "code",
   "execution_count": null,
   "metadata": {},
   "outputs": [],
   "source": [
    "# Named entity recognition\n",
    "entities = []\n",
    "for ent in doc.ents:\n",
    "    print(ent.text, ent.label_)\n",
    "    entities.append(ent.text)\n",
    "\n",
    "#list(set(entities))"
   ]
  }
 ],
 "metadata": {
  "kernelspec": {
   "display_name": "Python [conda env:fluent] *",
   "language": "python",
   "name": "conda-env-fluent-py"
  },
  "language_info": {
   "codemirror_mode": {
    "name": "ipython",
    "version": 3
   },
   "file_extension": ".py",
   "mimetype": "text/x-python",
   "name": "python",
   "nbconvert_exporter": "python",
   "pygments_lexer": "ipython3",
   "version": "3.8.5"
  }
 },
 "nbformat": 4,
 "nbformat_minor": 4
}
